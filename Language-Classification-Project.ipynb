{
 "cells": [
  {
   "cell_type": "markdown",
   "metadata": {},
   "source": [
    "# Classify language out of the list given below using just stop words. Remove punctuations, make it lower."
   ]
  },
  {
   "cell_type": "code",
   "execution_count": null,
   "metadata": {},
   "outputs": [],
   "source": [
    "import nltk\n",
    "from nltk.corpus import stopwords\n",
    "from nltk.tokenize import word_tokenize\n",
    "import string\n",
    "country_Stop_words=[]     ##Declare list that counts stop words per language\n",
    "Test=\"An article is qualunque member van un class of dedicated words naquele estão used with noun phrases per mark the identifiability of the referents of the noun phrases\"\n",
    "# Translation table to remove punctuations\n",
    "translator = str.maketrans('', '', string.punctuation)    # Translation table to remove punctuations\n",
    "\n",
    "Test = Test.translate(translator)     # Remove punctuations\n",
    "\n",
    "available_Language=stopwords.fileids()     ## Identify nltk languages\n",
    "for language in available_Language:     ##Apply loop in available languages\n",
    "    stop_words = set(stopwords.words(language))     ##Extract one language from available languages\n",
    "    word_tokens = word_tokenize(Test)     ## Tokenize to giving Test String\n",
    "    filtered_sentence = [w for w in word_tokens if not w.lower() in stop_words] ##Filtered into lower case\n",
    "    l=[]     ##Declare empaty list that save stop words of a specific language\n",
    "    for w in word_tokens:\n",
    "        if w  in stop_words:\n",
    "            l.append(w)\n",
    "    \n",
    "    country_Stop_words.append(len(list(set(l)))) ##Remove duplicate words\n",
    "   ## print(country_Stop_words)\n",
    "country_stopwords_dict = dict(zip(available_Language, country_Stop_words))     ##Covert both list into dictionary\n",
    "print(country_stopwords_dict) "
   ]
  }
 ],
 "metadata": {
  "kernelspec": {
   "display_name": "Python 3",
   "language": "python",
   "name": "python3"
  },
  "language_info": {
   "codemirror_mode": {
    "name": "ipython",
    "version": 3
   },
   "file_extension": ".py",
   "mimetype": "text/x-python",
   "name": "python",
   "nbconvert_exporter": "python",
   "pygments_lexer": "ipython3",
   "version": "3.7.4"
  }
 },
 "nbformat": 4,
 "nbformat_minor": 2
}
